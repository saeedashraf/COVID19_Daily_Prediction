{
  "nbformat": 4,
  "nbformat_minor": 0,
  "metadata": {
    "colab": {
      "name": "COVID19_prediction.ipynb",
      "provenance": [],
      "collapsed_sections": [],
      "toc_visible": true,
      "include_colab_link": true
    },
    "kernelspec": {
      "name": "python3",
      "display_name": "Python 3"
    },
    "accelerator": "GPU"
  },
  "cells": [
    {
      "cell_type": "markdown",
      "metadata": {
        "id": "view-in-github",
        "colab_type": "text"
      },
      "source": [
        "<a href=\"https://colab.research.google.com/github/saeedashraf/COVID19_Daily_Prediction/blob/master/COVID19_prediction.ipynb\" target=\"_parent\"><img src=\"https://colab.research.google.com/assets/colab-badge.svg\" alt=\"Open In Colab\"/></a>"
      ]
    },
    {
      "cell_type": "markdown",
      "metadata": {
        "id": "8RwRUjxMOPLS",
        "colab_type": "text"
      },
      "source": [
        "#COVID19 prediction of total cases in the comming days based on current situation"
      ]
    },
    {
      "cell_type": "markdown",
      "metadata": {
        "id": "Baut9GxIOLTn",
        "colab_type": "text"
      },
      "source": [
        "In this notebook we try to train a model based on total cases of corona cases and predict the number of total cases in future"
      ]
    },
    {
      "cell_type": "markdown",
      "metadata": {
        "id": "5ZfMp-mNOkSq",
        "colab_type": "text"
      },
      "source": [
        "## Importing the necessary libraries"
      ]
    },
    {
      "cell_type": "markdown",
      "metadata": {
        "id": "IvBfISj_W7vI",
        "colab_type": "text"
      },
      "source": [
        "We use different libraries : Numpy, Pandas, Scikitlearn, Matplotlib, datetime\n"
      ]
    },
    {
      "cell_type": "code",
      "metadata": {
        "id": "uldwpEd1YPfo",
        "colab_type": "code",
        "outputId": "a3128d41-f9f8-4fd6-cd3d-52c45b325a88",
        "colab": {
          "base_uri": "https://localhost:8080/",
          "height": 207
        }
      },
      "source": [
        "!pip install gitpython\n"
      ],
      "execution_count": 0,
      "outputs": [
        {
          "output_type": "stream",
          "text": [
            "Collecting gitpython\n",
            "\u001b[?25l  Downloading https://files.pythonhosted.org/packages/44/33/917e6fde1cad13daa7053f39b7c8af3be287314f75f1b1ea8d3fe37a8571/GitPython-3.1.2-py3-none-any.whl (451kB)\n",
            "\u001b[K     |████████████████████████████████| 460kB 4.9MB/s \n",
            "\u001b[?25hCollecting gitdb<5,>=4.0.1\n",
            "\u001b[?25l  Downloading https://files.pythonhosted.org/packages/48/11/d1800bca0a3bae820b84b7d813ad1eff15a48a64caea9c823fc8c1b119e8/gitdb-4.0.5-py3-none-any.whl (63kB)\n",
            "\u001b[K     |████████████████████████████████| 71kB 10.5MB/s \n",
            "\u001b[?25hCollecting smmap<4,>=3.0.1\n",
            "  Downloading https://files.pythonhosted.org/packages/b0/9a/4d409a6234eb940e6a78dfdfc66156e7522262f5f2fecca07dc55915952d/smmap-3.0.4-py2.py3-none-any.whl\n",
            "Installing collected packages: smmap, gitdb, gitpython\n",
            "Successfully installed gitdb-4.0.5 gitpython-3.1.2 smmap-3.0.4\n"
          ],
          "name": "stdout"
        }
      ]
    },
    {
      "cell_type": "code",
      "metadata": {
        "id": "NhHPEceqW0h8",
        "colab_type": "code",
        "colab": {}
      },
      "source": [
        "import pandas as pd\n",
        "import numpy as np\n",
        "import matplotlib.pyplot as plt\n",
        "import datetime as dt\n",
        "import git\n",
        "import os"
      ],
      "execution_count": 0,
      "outputs": []
    },
    {
      "cell_type": "code",
      "metadata": {
        "id": "02jVbT7VaUf9",
        "colab_type": "code",
        "outputId": "c1e8507f-d89f-4ddb-b653-96b13f7b18ba",
        "colab": {
          "base_uri": "https://localhost:8080/",
          "height": 34
        }
      },
      "source": [
        "print(git.__version__)"
      ],
      "execution_count": 0,
      "outputs": [
        {
          "output_type": "stream",
          "text": [
            "3.1.2\n"
          ],
          "name": "stdout"
        }
      ]
    },
    {
      "cell_type": "code",
      "metadata": {
        "id": "F5de2FyzagkB",
        "colab_type": "code",
        "outputId": "d46f01ef-02a1-459b-d532-ff9bb5474a5a",
        "colab": {
          "base_uri": "https://localhost:8080/",
          "height": 34
        }
      },
      "source": [
        "print(os.getcwd())"
      ],
      "execution_count": 0,
      "outputs": [
        {
          "output_type": "stream",
          "text": [
            "/content\n"
          ],
          "name": "stdout"
        }
      ]
    },
    {
      "cell_type": "markdown",
      "metadata": {
        "id": "h5_pNolgXbMh",
        "colab_type": "text"
      },
      "source": [
        "## Cloning the dataset from John Hopkins repository"
      ]
    },
    {
      "cell_type": "code",
      "metadata": {
        "id": "PwKdNTecW2sl",
        "colab_type": "code",
        "outputId": "89290fac-0f44-4420-931d-eba5fb3960c6",
        "colab": {
          "base_uri": "https://localhost:8080/",
          "height": 34
        }
      },
      "source": [
        "import git\n",
        "git.Git(\"/content/\").clone(\"https://github.com/CSSEGISandData/COVID-19.git\")\n",
        "#git.Git(\"C:/Users/ashrafse/SA_5_COVID5\").origin.pull(\"https://github.com/CSSEGISandData/COVID-19.git\")\n"
      ],
      "execution_count": 0,
      "outputs": [
        {
          "output_type": "execute_result",
          "data": {
            "text/plain": [
              "''"
            ]
          },
          "metadata": {
            "tags": []
          },
          "execution_count": 6
        }
      ]
    },
    {
      "cell_type": "code",
      "metadata": {
        "id": "nZsvg6m8X_Z1",
        "colab_type": "code",
        "outputId": "45fe4330-a3e0-40fc-ec06-496e75e8e764",
        "colab": {
          "base_uri": "https://localhost:8080/",
          "height": 34
        }
      },
      "source": [
        "from shutil import copyfile\n",
        "import os\n",
        "\n",
        "source = '/content/COVID-19/csse_covid_19_data/csse_covid_19_time_series/time_series_covid19_confirmed_global.csv'\n",
        "target = '/content/time_series_covid19_confirmed_global.csv'\n",
        "\n",
        "\n",
        "#source = input(\"Enter source file with full path: \")\n",
        "#target = input(\"Enter target file with full path: \")\n",
        "\n",
        "\n",
        "copyfile(source, target)"
      ],
      "execution_count": 0,
      "outputs": [
        {
          "output_type": "execute_result",
          "data": {
            "text/plain": [
              "'/content/time_series_covid19_confirmed_global.csv'"
            ]
          },
          "metadata": {
            "tags": []
          },
          "execution_count": 7
        }
      ]
    },
    {
      "cell_type": "markdown",
      "metadata": {
        "id": "lOQwgkTPboBA",
        "colab_type": "text"
      },
      "source": [
        "#### Reading the data\n"
      ]
    },
    {
      "cell_type": "markdown",
      "metadata": {
        "id": "pX6Gr0p57ZrX",
        "colab_type": "text"
      },
      "source": [
        "Set the dataset's rows and columns maximum extent "
      ]
    },
    {
      "cell_type": "code",
      "metadata": {
        "id": "rPdQHNobvA30",
        "colab_type": "code",
        "colab": {}
      },
      "source": [
        "pd.set_option('display.max_columns',200)\n",
        "pd.set_option('display.max_rows', 10000)"
      ],
      "execution_count": 0,
      "outputs": []
    },
    {
      "cell_type": "markdown",
      "metadata": {
        "id": "QVJLe-Lj7RFu",
        "colab_type": "text"
      },
      "source": [
        "Dataset is read and a filter is defined to capture a specified country."
      ]
    },
    {
      "cell_type": "code",
      "metadata": {
        "id": "orbySWhS_dN4",
        "colab_type": "code",
        "colab": {}
      },
      "source": [
        "# Importing the dataset\n",
        "dataset = pd.read_csv('/content/time_series_covid19_confirmed_global.csv')\n",
        "\n",
        "xLength = len(dataset.columns) - 4\n",
        "X = np.arange(xLength)\n"
      ],
      "execution_count": 0,
      "outputs": []
    },
    {
      "cell_type": "markdown",
      "metadata": {
        "id": "D22CcGd--nwv",
        "colab_type": "text"
      },
      "source": [
        "## Please specify the country's name of which you are interested to see the results in the code below"
      ]
    },
    {
      "cell_type": "markdown",
      "metadata": {
        "id": "-Pi6lWBP-xG-",
        "colab_type": "text"
      },
      "source": [
        "### Italy, US, China, France, Switzerland, etc\n",
        "You can choose the name from the code below:"
      ]
    },
    {
      "cell_type": "markdown",
      "metadata": {
        "id": "nXvjqIM0SvLH",
        "colab_type": "text"
      },
      "source": [
        "# New Section"
      ]
    },
    {
      "cell_type": "code",
      "metadata": {
        "id": "XsIyPoqT_xKt",
        "colab_type": "code",
        "outputId": "536b5f26-10df-4d48-aed1-a4d7979adc0c",
        "colab": {
          "base_uri": "https://localhost:8080/",
          "height": 1000
        }
      },
      "source": [
        "dataset['Country/Region']"
      ],
      "execution_count": 0,
      "outputs": [
        {
          "output_type": "execute_result",
          "data": {
            "text/plain": [
              "0                           Afghanistan\n",
              "1                               Albania\n",
              "2                               Algeria\n",
              "3                               Andorra\n",
              "4                                Angola\n",
              "5                   Antigua and Barbuda\n",
              "6                             Argentina\n",
              "7                               Armenia\n",
              "8                             Australia\n",
              "9                             Australia\n",
              "10                            Australia\n",
              "11                            Australia\n",
              "12                            Australia\n",
              "13                            Australia\n",
              "14                            Australia\n",
              "15                            Australia\n",
              "16                              Austria\n",
              "17                           Azerbaijan\n",
              "18                              Bahamas\n",
              "19                              Bahrain\n",
              "20                           Bangladesh\n",
              "21                             Barbados\n",
              "22                              Belarus\n",
              "23                              Belgium\n",
              "24                                Benin\n",
              "25                               Bhutan\n",
              "26                              Bolivia\n",
              "27               Bosnia and Herzegovina\n",
              "28                               Brazil\n",
              "29                               Brunei\n",
              "30                             Bulgaria\n",
              "31                         Burkina Faso\n",
              "32                           Cabo Verde\n",
              "33                             Cambodia\n",
              "34                             Cameroon\n",
              "35                               Canada\n",
              "36                               Canada\n",
              "37                               Canada\n",
              "38                               Canada\n",
              "39                               Canada\n",
              "40                               Canada\n",
              "41                               Canada\n",
              "42                               Canada\n",
              "43                               Canada\n",
              "44                               Canada\n",
              "45                               Canada\n",
              "46             Central African Republic\n",
              "47                                 Chad\n",
              "48                                Chile\n",
              "49                                China\n",
              "50                                China\n",
              "51                                China\n",
              "52                                China\n",
              "53                                China\n",
              "54                                China\n",
              "55                                China\n",
              "56                                China\n",
              "57                                China\n",
              "58                                China\n",
              "59                                China\n",
              "60                                China\n",
              "61                                China\n",
              "62                                China\n",
              "63                                China\n",
              "64                                China\n",
              "65                                China\n",
              "66                                China\n",
              "67                                China\n",
              "68                                China\n",
              "69                                China\n",
              "70                                China\n",
              "71                                China\n",
              "72                                China\n",
              "73                                China\n",
              "74                                China\n",
              "75                                China\n",
              "76                                China\n",
              "77                                China\n",
              "78                                China\n",
              "79                                China\n",
              "80                                China\n",
              "81                                China\n",
              "82                             Colombia\n",
              "83                  Congo (Brazzaville)\n",
              "84                     Congo (Kinshasa)\n",
              "85                           Costa Rica\n",
              "86                        Cote d'Ivoire\n",
              "87                              Croatia\n",
              "88                     Diamond Princess\n",
              "89                                 Cuba\n",
              "90                               Cyprus\n",
              "91                              Czechia\n",
              "92                              Denmark\n",
              "93                              Denmark\n",
              "94                              Denmark\n",
              "95                             Djibouti\n",
              "96                   Dominican Republic\n",
              "97                              Ecuador\n",
              "98                                Egypt\n",
              "99                          El Salvador\n",
              "100                   Equatorial Guinea\n",
              "101                             Eritrea\n",
              "102                             Estonia\n",
              "103                            Eswatini\n",
              "104                            Ethiopia\n",
              "105                                Fiji\n",
              "106                             Finland\n",
              "107                              France\n",
              "108                              France\n",
              "109                              France\n",
              "110                              France\n",
              "111                              France\n",
              "112                              France\n",
              "113                              France\n",
              "114                              France\n",
              "115                              France\n",
              "116                              France\n",
              "117                               Gabon\n",
              "118                              Gambia\n",
              "119                             Georgia\n",
              "120                             Germany\n",
              "121                               Ghana\n",
              "122                              Greece\n",
              "123                           Guatemala\n",
              "124                              Guinea\n",
              "125                              Guyana\n",
              "126                               Haiti\n",
              "127                            Holy See\n",
              "128                            Honduras\n",
              "129                             Hungary\n",
              "130                             Iceland\n",
              "131                               India\n",
              "132                           Indonesia\n",
              "133                                Iran\n",
              "134                                Iraq\n",
              "135                             Ireland\n",
              "136                              Israel\n",
              "137                               Italy\n",
              "138                             Jamaica\n",
              "139                               Japan\n",
              "140                              Jordan\n",
              "141                          Kazakhstan\n",
              "142                               Kenya\n",
              "143                        Korea, South\n",
              "144                              Kuwait\n",
              "145                          Kyrgyzstan\n",
              "146                              Latvia\n",
              "147                             Lebanon\n",
              "148                             Liberia\n",
              "149                       Liechtenstein\n",
              "150                           Lithuania\n",
              "151                          Luxembourg\n",
              "152                          Madagascar\n",
              "153                            Malaysia\n",
              "154                            Maldives\n",
              "155                               Malta\n",
              "156                          Mauritania\n",
              "157                           Mauritius\n",
              "158                              Mexico\n",
              "159                             Moldova\n",
              "160                              Monaco\n",
              "161                            Mongolia\n",
              "162                          Montenegro\n",
              "163                             Morocco\n",
              "164                             Namibia\n",
              "165                               Nepal\n",
              "166                         Netherlands\n",
              "167                         Netherlands\n",
              "168                         Netherlands\n",
              "169                         Netherlands\n",
              "170                         New Zealand\n",
              "171                           Nicaragua\n",
              "172                               Niger\n",
              "173                             Nigeria\n",
              "174                     North Macedonia\n",
              "175                              Norway\n",
              "176                                Oman\n",
              "177                            Pakistan\n",
              "178                              Panama\n",
              "179                    Papua New Guinea\n",
              "180                            Paraguay\n",
              "181                                Peru\n",
              "182                         Philippines\n",
              "183                              Poland\n",
              "184                            Portugal\n",
              "185                               Qatar\n",
              "186                             Romania\n",
              "187                              Russia\n",
              "188                              Rwanda\n",
              "189                         Saint Lucia\n",
              "190    Saint Vincent and the Grenadines\n",
              "191                          San Marino\n",
              "192                        Saudi Arabia\n",
              "193                             Senegal\n",
              "194                              Serbia\n",
              "195                          Seychelles\n",
              "196                           Singapore\n",
              "197                            Slovakia\n",
              "198                            Slovenia\n",
              "199                             Somalia\n",
              "200                        South Africa\n",
              "201                               Spain\n",
              "202                           Sri Lanka\n",
              "203                               Sudan\n",
              "204                            Suriname\n",
              "205                              Sweden\n",
              "206                         Switzerland\n",
              "207                             Taiwan*\n",
              "208                            Tanzania\n",
              "209                            Thailand\n",
              "210                                Togo\n",
              "211                 Trinidad and Tobago\n",
              "212                             Tunisia\n",
              "213                              Turkey\n",
              "214                              Uganda\n",
              "215                             Ukraine\n",
              "216                United Arab Emirates\n",
              "217                      United Kingdom\n",
              "218                      United Kingdom\n",
              "219                      United Kingdom\n",
              "220                      United Kingdom\n",
              "221                      United Kingdom\n",
              "222                      United Kingdom\n",
              "223                      United Kingdom\n",
              "224                             Uruguay\n",
              "225                                  US\n",
              "226                          Uzbekistan\n",
              "227                           Venezuela\n",
              "228                             Vietnam\n",
              "229                              Zambia\n",
              "230                            Zimbabwe\n",
              "231                              Canada\n",
              "232                            Dominica\n",
              "233                             Grenada\n",
              "234                          Mozambique\n",
              "235                               Syria\n",
              "236                         Timor-Leste\n",
              "237                              Belize\n",
              "238                                Laos\n",
              "239                               Libya\n",
              "240                  West Bank and Gaza\n",
              "241                       Guinea-Bissau\n",
              "242                                Mali\n",
              "243               Saint Kitts and Nevis\n",
              "244                              Canada\n",
              "245                              Canada\n",
              "246                              Kosovo\n",
              "247                               Burma\n",
              "248                      United Kingdom\n",
              "249                      United Kingdom\n",
              "250                      United Kingdom\n",
              "251                          MS Zaandam\n",
              "252                            Botswana\n",
              "253                             Burundi\n",
              "254                        Sierra Leone\n",
              "255                         Netherlands\n",
              "256                              Malawi\n",
              "257                      United Kingdom\n",
              "258                              France\n",
              "259                         South Sudan\n",
              "260                      Western Sahara\n",
              "261               Sao Tome and Principe\n",
              "262                               Yemen\n",
              "263                             Comoros\n",
              "264                          Tajikistan\n",
              "265                             Lesotho\n",
              "Name: Country/Region, dtype: object"
            ]
          },
          "metadata": {
            "tags": []
          },
          "execution_count": 10
        }
      ]
    },
    {
      "cell_type": "code",
      "metadata": {
        "id": "XI2PYYrZincX",
        "colab_type": "code",
        "outputId": "44aaf144-7b73-4c69-ab8e-671f6e975bf7",
        "colab": {
          "base_uri": "https://localhost:8080/",
          "height": 193
        }
      },
      "source": [
        "dataset.head(4)"
      ],
      "execution_count": 0,
      "outputs": [
        {
          "output_type": "execute_result",
          "data": {
            "text/html": [
              "<div>\n",
              "<style scoped>\n",
              "    .dataframe tbody tr th:only-of-type {\n",
              "        vertical-align: middle;\n",
              "    }\n",
              "\n",
              "    .dataframe tbody tr th {\n",
              "        vertical-align: top;\n",
              "    }\n",
              "\n",
              "    .dataframe thead th {\n",
              "        text-align: right;\n",
              "    }\n",
              "</style>\n",
              "<table border=\"1\" class=\"dataframe\">\n",
              "  <thead>\n",
              "    <tr style=\"text-align: right;\">\n",
              "      <th></th>\n",
              "      <th>Province/State</th>\n",
              "      <th>Country/Region</th>\n",
              "      <th>Lat</th>\n",
              "      <th>Long</th>\n",
              "      <th>1/22/20</th>\n",
              "      <th>1/23/20</th>\n",
              "      <th>1/24/20</th>\n",
              "      <th>1/25/20</th>\n",
              "      <th>1/26/20</th>\n",
              "      <th>1/27/20</th>\n",
              "      <th>1/28/20</th>\n",
              "      <th>1/29/20</th>\n",
              "      <th>1/30/20</th>\n",
              "      <th>1/31/20</th>\n",
              "      <th>2/1/20</th>\n",
              "      <th>2/2/20</th>\n",
              "      <th>2/3/20</th>\n",
              "      <th>2/4/20</th>\n",
              "      <th>2/5/20</th>\n",
              "      <th>2/6/20</th>\n",
              "      <th>2/7/20</th>\n",
              "      <th>2/8/20</th>\n",
              "      <th>2/9/20</th>\n",
              "      <th>2/10/20</th>\n",
              "      <th>2/11/20</th>\n",
              "      <th>2/12/20</th>\n",
              "      <th>2/13/20</th>\n",
              "      <th>2/14/20</th>\n",
              "      <th>2/15/20</th>\n",
              "      <th>2/16/20</th>\n",
              "      <th>2/17/20</th>\n",
              "      <th>2/18/20</th>\n",
              "      <th>2/19/20</th>\n",
              "      <th>2/20/20</th>\n",
              "      <th>2/21/20</th>\n",
              "      <th>2/22/20</th>\n",
              "      <th>2/23/20</th>\n",
              "      <th>2/24/20</th>\n",
              "      <th>2/25/20</th>\n",
              "      <th>2/26/20</th>\n",
              "      <th>2/27/20</th>\n",
              "      <th>2/28/20</th>\n",
              "      <th>2/29/20</th>\n",
              "      <th>3/1/20</th>\n",
              "      <th>3/2/20</th>\n",
              "      <th>3/3/20</th>\n",
              "      <th>3/4/20</th>\n",
              "      <th>3/5/20</th>\n",
              "      <th>3/6/20</th>\n",
              "      <th>3/7/20</th>\n",
              "      <th>3/8/20</th>\n",
              "      <th>3/9/20</th>\n",
              "      <th>3/10/20</th>\n",
              "      <th>3/11/20</th>\n",
              "      <th>3/12/20</th>\n",
              "      <th>3/13/20</th>\n",
              "      <th>3/14/20</th>\n",
              "      <th>3/15/20</th>\n",
              "      <th>3/16/20</th>\n",
              "      <th>3/17/20</th>\n",
              "      <th>3/18/20</th>\n",
              "      <th>3/19/20</th>\n",
              "      <th>3/20/20</th>\n",
              "      <th>3/21/20</th>\n",
              "      <th>3/22/20</th>\n",
              "      <th>3/23/20</th>\n",
              "      <th>3/24/20</th>\n",
              "      <th>3/25/20</th>\n",
              "      <th>3/26/20</th>\n",
              "      <th>3/27/20</th>\n",
              "      <th>3/28/20</th>\n",
              "      <th>3/29/20</th>\n",
              "      <th>3/30/20</th>\n",
              "      <th>3/31/20</th>\n",
              "      <th>4/1/20</th>\n",
              "      <th>4/2/20</th>\n",
              "      <th>4/3/20</th>\n",
              "      <th>4/4/20</th>\n",
              "      <th>4/5/20</th>\n",
              "      <th>4/6/20</th>\n",
              "      <th>4/7/20</th>\n",
              "      <th>4/8/20</th>\n",
              "      <th>4/9/20</th>\n",
              "      <th>4/10/20</th>\n",
              "      <th>4/11/20</th>\n",
              "      <th>4/12/20</th>\n",
              "      <th>4/13/20</th>\n",
              "      <th>4/14/20</th>\n",
              "      <th>4/15/20</th>\n",
              "      <th>4/16/20</th>\n",
              "      <th>4/17/20</th>\n",
              "      <th>4/18/20</th>\n",
              "      <th>4/19/20</th>\n",
              "      <th>4/20/20</th>\n",
              "      <th>4/21/20</th>\n",
              "      <th>4/22/20</th>\n",
              "      <th>4/23/20</th>\n",
              "      <th>4/24/20</th>\n",
              "      <th>4/25/20</th>\n",
              "      <th>4/26/20</th>\n",
              "      <th>4/27/20</th>\n",
              "      <th>4/28/20</th>\n",
              "      <th>4/29/20</th>\n",
              "      <th>4/30/20</th>\n",
              "      <th>5/1/20</th>\n",
              "      <th>5/2/20</th>\n",
              "      <th>5/3/20</th>\n",
              "      <th>5/4/20</th>\n",
              "      <th>5/5/20</th>\n",
              "      <th>5/6/20</th>\n",
              "      <th>5/7/20</th>\n",
              "      <th>5/8/20</th>\n",
              "      <th>5/9/20</th>\n",
              "      <th>5/10/20</th>\n",
              "      <th>5/11/20</th>\n",
              "      <th>5/12/20</th>\n",
              "      <th>5/13/20</th>\n",
              "    </tr>\n",
              "  </thead>\n",
              "  <tbody>\n",
              "    <tr>\n",
              "      <th>0</th>\n",
              "      <td>NaN</td>\n",
              "      <td>Afghanistan</td>\n",
              "      <td>33.0000</td>\n",
              "      <td>65.0000</td>\n",
              "      <td>0</td>\n",
              "      <td>0</td>\n",
              "      <td>0</td>\n",
              "      <td>0</td>\n",
              "      <td>0</td>\n",
              "      <td>0</td>\n",
              "      <td>0</td>\n",
              "      <td>0</td>\n",
              "      <td>0</td>\n",
              "      <td>0</td>\n",
              "      <td>0</td>\n",
              "      <td>0</td>\n",
              "      <td>0</td>\n",
              "      <td>0</td>\n",
              "      <td>0</td>\n",
              "      <td>0</td>\n",
              "      <td>0</td>\n",
              "      <td>0</td>\n",
              "      <td>0</td>\n",
              "      <td>0</td>\n",
              "      <td>0</td>\n",
              "      <td>0</td>\n",
              "      <td>0</td>\n",
              "      <td>0</td>\n",
              "      <td>0</td>\n",
              "      <td>0</td>\n",
              "      <td>0</td>\n",
              "      <td>0</td>\n",
              "      <td>0</td>\n",
              "      <td>0</td>\n",
              "      <td>0</td>\n",
              "      <td>0</td>\n",
              "      <td>0</td>\n",
              "      <td>1</td>\n",
              "      <td>1</td>\n",
              "      <td>1</td>\n",
              "      <td>1</td>\n",
              "      <td>1</td>\n",
              "      <td>1</td>\n",
              "      <td>1</td>\n",
              "      <td>1</td>\n",
              "      <td>1</td>\n",
              "      <td>1</td>\n",
              "      <td>1</td>\n",
              "      <td>1</td>\n",
              "      <td>1</td>\n",
              "      <td>4</td>\n",
              "      <td>4</td>\n",
              "      <td>5</td>\n",
              "      <td>7</td>\n",
              "      <td>7</td>\n",
              "      <td>7</td>\n",
              "      <td>11</td>\n",
              "      <td>16</td>\n",
              "      <td>21</td>\n",
              "      <td>22</td>\n",
              "      <td>22</td>\n",
              "      <td>22</td>\n",
              "      <td>24</td>\n",
              "      <td>24</td>\n",
              "      <td>40</td>\n",
              "      <td>40</td>\n",
              "      <td>74</td>\n",
              "      <td>84</td>\n",
              "      <td>94</td>\n",
              "      <td>110</td>\n",
              "      <td>110</td>\n",
              "      <td>120</td>\n",
              "      <td>170</td>\n",
              "      <td>174</td>\n",
              "      <td>237</td>\n",
              "      <td>273</td>\n",
              "      <td>281</td>\n",
              "      <td>299</td>\n",
              "      <td>349</td>\n",
              "      <td>367</td>\n",
              "      <td>423</td>\n",
              "      <td>444</td>\n",
              "      <td>484</td>\n",
              "      <td>521</td>\n",
              "      <td>555</td>\n",
              "      <td>607</td>\n",
              "      <td>665</td>\n",
              "      <td>714</td>\n",
              "      <td>784</td>\n",
              "      <td>840</td>\n",
              "      <td>906</td>\n",
              "      <td>933</td>\n",
              "      <td>996</td>\n",
              "      <td>1026</td>\n",
              "      <td>1092</td>\n",
              "      <td>1176</td>\n",
              "      <td>1279</td>\n",
              "      <td>1351</td>\n",
              "      <td>1463</td>\n",
              "      <td>1531</td>\n",
              "      <td>1703</td>\n",
              "      <td>1828</td>\n",
              "      <td>1939</td>\n",
              "      <td>2171</td>\n",
              "      <td>2335</td>\n",
              "      <td>2469</td>\n",
              "      <td>2704</td>\n",
              "      <td>2894</td>\n",
              "      <td>3224</td>\n",
              "      <td>3392</td>\n",
              "      <td>3563</td>\n",
              "      <td>3778</td>\n",
              "      <td>4033</td>\n",
              "      <td>4402</td>\n",
              "      <td>4687</td>\n",
              "      <td>4963</td>\n",
              "      <td>5226</td>\n",
              "    </tr>\n",
              "    <tr>\n",
              "      <th>1</th>\n",
              "      <td>NaN</td>\n",
              "      <td>Albania</td>\n",
              "      <td>41.1533</td>\n",
              "      <td>20.1683</td>\n",
              "      <td>0</td>\n",
              "      <td>0</td>\n",
              "      <td>0</td>\n",
              "      <td>0</td>\n",
              "      <td>0</td>\n",
              "      <td>0</td>\n",
              "      <td>0</td>\n",
              "      <td>0</td>\n",
              "      <td>0</td>\n",
              "      <td>0</td>\n",
              "      <td>0</td>\n",
              "      <td>0</td>\n",
              "      <td>0</td>\n",
              "      <td>0</td>\n",
              "      <td>0</td>\n",
              "      <td>0</td>\n",
              "      <td>0</td>\n",
              "      <td>0</td>\n",
              "      <td>0</td>\n",
              "      <td>0</td>\n",
              "      <td>0</td>\n",
              "      <td>0</td>\n",
              "      <td>0</td>\n",
              "      <td>0</td>\n",
              "      <td>0</td>\n",
              "      <td>0</td>\n",
              "      <td>0</td>\n",
              "      <td>0</td>\n",
              "      <td>0</td>\n",
              "      <td>0</td>\n",
              "      <td>0</td>\n",
              "      <td>0</td>\n",
              "      <td>0</td>\n",
              "      <td>0</td>\n",
              "      <td>0</td>\n",
              "      <td>0</td>\n",
              "      <td>0</td>\n",
              "      <td>0</td>\n",
              "      <td>0</td>\n",
              "      <td>0</td>\n",
              "      <td>0</td>\n",
              "      <td>0</td>\n",
              "      <td>0</td>\n",
              "      <td>0</td>\n",
              "      <td>0</td>\n",
              "      <td>0</td>\n",
              "      <td>0</td>\n",
              "      <td>2</td>\n",
              "      <td>10</td>\n",
              "      <td>12</td>\n",
              "      <td>23</td>\n",
              "      <td>33</td>\n",
              "      <td>38</td>\n",
              "      <td>42</td>\n",
              "      <td>51</td>\n",
              "      <td>55</td>\n",
              "      <td>59</td>\n",
              "      <td>64</td>\n",
              "      <td>70</td>\n",
              "      <td>76</td>\n",
              "      <td>89</td>\n",
              "      <td>104</td>\n",
              "      <td>123</td>\n",
              "      <td>146</td>\n",
              "      <td>174</td>\n",
              "      <td>186</td>\n",
              "      <td>197</td>\n",
              "      <td>212</td>\n",
              "      <td>223</td>\n",
              "      <td>243</td>\n",
              "      <td>259</td>\n",
              "      <td>277</td>\n",
              "      <td>304</td>\n",
              "      <td>333</td>\n",
              "      <td>361</td>\n",
              "      <td>377</td>\n",
              "      <td>383</td>\n",
              "      <td>400</td>\n",
              "      <td>409</td>\n",
              "      <td>416</td>\n",
              "      <td>433</td>\n",
              "      <td>446</td>\n",
              "      <td>467</td>\n",
              "      <td>475</td>\n",
              "      <td>494</td>\n",
              "      <td>518</td>\n",
              "      <td>539</td>\n",
              "      <td>548</td>\n",
              "      <td>562</td>\n",
              "      <td>584</td>\n",
              "      <td>609</td>\n",
              "      <td>634</td>\n",
              "      <td>663</td>\n",
              "      <td>678</td>\n",
              "      <td>712</td>\n",
              "      <td>726</td>\n",
              "      <td>736</td>\n",
              "      <td>750</td>\n",
              "      <td>766</td>\n",
              "      <td>773</td>\n",
              "      <td>782</td>\n",
              "      <td>789</td>\n",
              "      <td>795</td>\n",
              "      <td>803</td>\n",
              "      <td>820</td>\n",
              "      <td>832</td>\n",
              "      <td>842</td>\n",
              "      <td>850</td>\n",
              "      <td>856</td>\n",
              "      <td>868</td>\n",
              "      <td>872</td>\n",
              "      <td>876</td>\n",
              "      <td>880</td>\n",
              "    </tr>\n",
              "    <tr>\n",
              "      <th>2</th>\n",
              "      <td>NaN</td>\n",
              "      <td>Algeria</td>\n",
              "      <td>28.0339</td>\n",
              "      <td>1.6596</td>\n",
              "      <td>0</td>\n",
              "      <td>0</td>\n",
              "      <td>0</td>\n",
              "      <td>0</td>\n",
              "      <td>0</td>\n",
              "      <td>0</td>\n",
              "      <td>0</td>\n",
              "      <td>0</td>\n",
              "      <td>0</td>\n",
              "      <td>0</td>\n",
              "      <td>0</td>\n",
              "      <td>0</td>\n",
              "      <td>0</td>\n",
              "      <td>0</td>\n",
              "      <td>0</td>\n",
              "      <td>0</td>\n",
              "      <td>0</td>\n",
              "      <td>0</td>\n",
              "      <td>0</td>\n",
              "      <td>0</td>\n",
              "      <td>0</td>\n",
              "      <td>0</td>\n",
              "      <td>0</td>\n",
              "      <td>0</td>\n",
              "      <td>0</td>\n",
              "      <td>0</td>\n",
              "      <td>0</td>\n",
              "      <td>0</td>\n",
              "      <td>0</td>\n",
              "      <td>0</td>\n",
              "      <td>0</td>\n",
              "      <td>0</td>\n",
              "      <td>0</td>\n",
              "      <td>0</td>\n",
              "      <td>1</td>\n",
              "      <td>1</td>\n",
              "      <td>1</td>\n",
              "      <td>1</td>\n",
              "      <td>1</td>\n",
              "      <td>1</td>\n",
              "      <td>3</td>\n",
              "      <td>5</td>\n",
              "      <td>12</td>\n",
              "      <td>12</td>\n",
              "      <td>17</td>\n",
              "      <td>17</td>\n",
              "      <td>19</td>\n",
              "      <td>20</td>\n",
              "      <td>20</td>\n",
              "      <td>20</td>\n",
              "      <td>24</td>\n",
              "      <td>26</td>\n",
              "      <td>37</td>\n",
              "      <td>48</td>\n",
              "      <td>54</td>\n",
              "      <td>60</td>\n",
              "      <td>74</td>\n",
              "      <td>87</td>\n",
              "      <td>90</td>\n",
              "      <td>139</td>\n",
              "      <td>201</td>\n",
              "      <td>230</td>\n",
              "      <td>264</td>\n",
              "      <td>302</td>\n",
              "      <td>367</td>\n",
              "      <td>409</td>\n",
              "      <td>454</td>\n",
              "      <td>511</td>\n",
              "      <td>584</td>\n",
              "      <td>716</td>\n",
              "      <td>847</td>\n",
              "      <td>986</td>\n",
              "      <td>1171</td>\n",
              "      <td>1251</td>\n",
              "      <td>1320</td>\n",
              "      <td>1423</td>\n",
              "      <td>1468</td>\n",
              "      <td>1572</td>\n",
              "      <td>1666</td>\n",
              "      <td>1761</td>\n",
              "      <td>1825</td>\n",
              "      <td>1914</td>\n",
              "      <td>1983</td>\n",
              "      <td>2070</td>\n",
              "      <td>2160</td>\n",
              "      <td>2268</td>\n",
              "      <td>2418</td>\n",
              "      <td>2534</td>\n",
              "      <td>2629</td>\n",
              "      <td>2718</td>\n",
              "      <td>2811</td>\n",
              "      <td>2910</td>\n",
              "      <td>3007</td>\n",
              "      <td>3127</td>\n",
              "      <td>3256</td>\n",
              "      <td>3382</td>\n",
              "      <td>3517</td>\n",
              "      <td>3649</td>\n",
              "      <td>3848</td>\n",
              "      <td>4006</td>\n",
              "      <td>4154</td>\n",
              "      <td>4295</td>\n",
              "      <td>4474</td>\n",
              "      <td>4648</td>\n",
              "      <td>4838</td>\n",
              "      <td>4997</td>\n",
              "      <td>5182</td>\n",
              "      <td>5369</td>\n",
              "      <td>5558</td>\n",
              "      <td>5723</td>\n",
              "      <td>5891</td>\n",
              "      <td>6067</td>\n",
              "      <td>6253</td>\n",
              "    </tr>\n",
              "    <tr>\n",
              "      <th>3</th>\n",
              "      <td>NaN</td>\n",
              "      <td>Andorra</td>\n",
              "      <td>42.5063</td>\n",
              "      <td>1.5218</td>\n",
              "      <td>0</td>\n",
              "      <td>0</td>\n",
              "      <td>0</td>\n",
              "      <td>0</td>\n",
              "      <td>0</td>\n",
              "      <td>0</td>\n",
              "      <td>0</td>\n",
              "      <td>0</td>\n",
              "      <td>0</td>\n",
              "      <td>0</td>\n",
              "      <td>0</td>\n",
              "      <td>0</td>\n",
              "      <td>0</td>\n",
              "      <td>0</td>\n",
              "      <td>0</td>\n",
              "      <td>0</td>\n",
              "      <td>0</td>\n",
              "      <td>0</td>\n",
              "      <td>0</td>\n",
              "      <td>0</td>\n",
              "      <td>0</td>\n",
              "      <td>0</td>\n",
              "      <td>0</td>\n",
              "      <td>0</td>\n",
              "      <td>0</td>\n",
              "      <td>0</td>\n",
              "      <td>0</td>\n",
              "      <td>0</td>\n",
              "      <td>0</td>\n",
              "      <td>0</td>\n",
              "      <td>0</td>\n",
              "      <td>0</td>\n",
              "      <td>0</td>\n",
              "      <td>0</td>\n",
              "      <td>0</td>\n",
              "      <td>0</td>\n",
              "      <td>0</td>\n",
              "      <td>0</td>\n",
              "      <td>0</td>\n",
              "      <td>0</td>\n",
              "      <td>1</td>\n",
              "      <td>1</td>\n",
              "      <td>1</td>\n",
              "      <td>1</td>\n",
              "      <td>1</td>\n",
              "      <td>1</td>\n",
              "      <td>1</td>\n",
              "      <td>1</td>\n",
              "      <td>1</td>\n",
              "      <td>1</td>\n",
              "      <td>1</td>\n",
              "      <td>1</td>\n",
              "      <td>1</td>\n",
              "      <td>1</td>\n",
              "      <td>2</td>\n",
              "      <td>39</td>\n",
              "      <td>39</td>\n",
              "      <td>53</td>\n",
              "      <td>75</td>\n",
              "      <td>88</td>\n",
              "      <td>113</td>\n",
              "      <td>133</td>\n",
              "      <td>164</td>\n",
              "      <td>188</td>\n",
              "      <td>224</td>\n",
              "      <td>267</td>\n",
              "      <td>308</td>\n",
              "      <td>334</td>\n",
              "      <td>370</td>\n",
              "      <td>376</td>\n",
              "      <td>390</td>\n",
              "      <td>428</td>\n",
              "      <td>439</td>\n",
              "      <td>466</td>\n",
              "      <td>501</td>\n",
              "      <td>525</td>\n",
              "      <td>545</td>\n",
              "      <td>564</td>\n",
              "      <td>583</td>\n",
              "      <td>601</td>\n",
              "      <td>601</td>\n",
              "      <td>638</td>\n",
              "      <td>646</td>\n",
              "      <td>659</td>\n",
              "      <td>673</td>\n",
              "      <td>673</td>\n",
              "      <td>696</td>\n",
              "      <td>704</td>\n",
              "      <td>713</td>\n",
              "      <td>717</td>\n",
              "      <td>717</td>\n",
              "      <td>723</td>\n",
              "      <td>723</td>\n",
              "      <td>731</td>\n",
              "      <td>738</td>\n",
              "      <td>738</td>\n",
              "      <td>743</td>\n",
              "      <td>743</td>\n",
              "      <td>743</td>\n",
              "      <td>745</td>\n",
              "      <td>745</td>\n",
              "      <td>747</td>\n",
              "      <td>748</td>\n",
              "      <td>750</td>\n",
              "      <td>751</td>\n",
              "      <td>751</td>\n",
              "      <td>752</td>\n",
              "      <td>752</td>\n",
              "      <td>754</td>\n",
              "      <td>755</td>\n",
              "      <td>755</td>\n",
              "      <td>758</td>\n",
              "      <td>760</td>\n",
              "    </tr>\n",
              "  </tbody>\n",
              "</table>\n",
              "</div>"
            ],
            "text/plain": [
              "  Province/State Country/Region      Lat     Long  1/22/20  1/23/20  1/24/20  \\\n",
              "0            NaN    Afghanistan  33.0000  65.0000        0        0        0   \n",
              "1            NaN        Albania  41.1533  20.1683        0        0        0   \n",
              "2            NaN        Algeria  28.0339   1.6596        0        0        0   \n",
              "3            NaN        Andorra  42.5063   1.5218        0        0        0   \n",
              "\n",
              "   1/25/20  1/26/20  1/27/20  1/28/20  1/29/20  1/30/20  1/31/20  2/1/20  \\\n",
              "0        0        0        0        0        0        0        0       0   \n",
              "1        0        0        0        0        0        0        0       0   \n",
              "2        0        0        0        0        0        0        0       0   \n",
              "3        0        0        0        0        0        0        0       0   \n",
              "\n",
              "   2/2/20  2/3/20  2/4/20  2/5/20  2/6/20  2/7/20  2/8/20  2/9/20  2/10/20  \\\n",
              "0       0       0       0       0       0       0       0       0        0   \n",
              "1       0       0       0       0       0       0       0       0        0   \n",
              "2       0       0       0       0       0       0       0       0        0   \n",
              "3       0       0       0       0       0       0       0       0        0   \n",
              "\n",
              "   2/11/20  2/12/20  2/13/20  2/14/20  2/15/20  2/16/20  2/17/20  2/18/20  \\\n",
              "0        0        0        0        0        0        0        0        0   \n",
              "1        0        0        0        0        0        0        0        0   \n",
              "2        0        0        0        0        0        0        0        0   \n",
              "3        0        0        0        0        0        0        0        0   \n",
              "\n",
              "   2/19/20  2/20/20  2/21/20  2/22/20  2/23/20  2/24/20  2/25/20  2/26/20  \\\n",
              "0        0        0        0        0        0        1        1        1   \n",
              "1        0        0        0        0        0        0        0        0   \n",
              "2        0        0        0        0        0        0        1        1   \n",
              "3        0        0        0        0        0        0        0        0   \n",
              "\n",
              "   2/27/20  2/28/20  2/29/20  3/1/20  3/2/20  3/3/20  3/4/20  3/5/20  3/6/20  \\\n",
              "0        1        1        1       1       1       1       1       1       1   \n",
              "1        0        0        0       0       0       0       0       0       0   \n",
              "2        1        1        1       1       3       5      12      12      17   \n",
              "3        0        0        0       0       1       1       1       1       1   \n",
              "\n",
              "   3/7/20  3/8/20  3/9/20  3/10/20  3/11/20  3/12/20  3/13/20  3/14/20  \\\n",
              "0       1       4       4        5        7        7        7       11   \n",
              "1       0       0       2       10       12       23       33       38   \n",
              "2      17      19      20       20       20       24       26       37   \n",
              "3       1       1       1        1        1        1        1        1   \n",
              "\n",
              "   3/15/20  3/16/20  3/17/20  3/18/20  3/19/20  3/20/20  3/21/20  3/22/20  \\\n",
              "0       16       21       22       22       22       24       24       40   \n",
              "1       42       51       55       59       64       70       76       89   \n",
              "2       48       54       60       74       87       90      139      201   \n",
              "3        1        2       39       39       53       75       88      113   \n",
              "\n",
              "   3/23/20  3/24/20  3/25/20  3/26/20  3/27/20  3/28/20  3/29/20  3/30/20  \\\n",
              "0       40       74       84       94      110      110      120      170   \n",
              "1      104      123      146      174      186      197      212      223   \n",
              "2      230      264      302      367      409      454      511      584   \n",
              "3      133      164      188      224      267      308      334      370   \n",
              "\n",
              "   3/31/20  4/1/20  4/2/20  4/3/20  4/4/20  4/5/20  4/6/20  4/7/20  4/8/20  \\\n",
              "0      174     237     273     281     299     349     367     423     444   \n",
              "1      243     259     277     304     333     361     377     383     400   \n",
              "2      716     847     986    1171    1251    1320    1423    1468    1572   \n",
              "3      376     390     428     439     466     501     525     545     564   \n",
              "\n",
              "   4/9/20  4/10/20  4/11/20  4/12/20  4/13/20  4/14/20  4/15/20  4/16/20  \\\n",
              "0     484      521      555      607      665      714      784      840   \n",
              "1     409      416      433      446      467      475      494      518   \n",
              "2    1666     1761     1825     1914     1983     2070     2160     2268   \n",
              "3     583      601      601      638      646      659      673      673   \n",
              "\n",
              "   4/17/20  4/18/20  4/19/20  4/20/20  4/21/20  4/22/20  4/23/20  4/24/20  \\\n",
              "0      906      933      996     1026     1092     1176     1279     1351   \n",
              "1      539      548      562      584      609      634      663      678   \n",
              "2     2418     2534     2629     2718     2811     2910     3007     3127   \n",
              "3      696      704      713      717      717      723      723      731   \n",
              "\n",
              "   4/25/20  4/26/20  4/27/20  4/28/20  4/29/20  4/30/20  5/1/20  5/2/20  \\\n",
              "0     1463     1531     1703     1828     1939     2171    2335    2469   \n",
              "1      712      726      736      750      766      773     782     789   \n",
              "2     3256     3382     3517     3649     3848     4006    4154    4295   \n",
              "3      738      738      743      743      743      745     745     747   \n",
              "\n",
              "   5/3/20  5/4/20  5/5/20  5/6/20  5/7/20  5/8/20  5/9/20  5/10/20  5/11/20  \\\n",
              "0    2704    2894    3224    3392    3563    3778    4033     4402     4687   \n",
              "1     795     803     820     832     842     850     856      868      872   \n",
              "2    4474    4648    4838    4997    5182    5369    5558     5723     5891   \n",
              "3     748     750     751     751     752     752     754      755      755   \n",
              "\n",
              "   5/12/20  5/13/20  \n",
              "0     4963     5226  \n",
              "1      876      880  \n",
              "2     6067     6253  \n",
              "3      758      760  "
            ]
          },
          "metadata": {
            "tags": []
          },
          "execution_count": 11
        }
      ]
    },
    {
      "cell_type": "code",
      "metadata": {
        "id": "Y-pM6TcIvFDz",
        "colab_type": "code",
        "colab": {}
      },
      "source": [
        "analyzedContry = 'Italy'\n",
        "\n",
        "filt3 = (dataset['Country/Region'] == analyzedContry)\n",
        "#y = np.transpose(dataset.loc[filt3, dataset.columns[4:]].values)\n",
        "y = np.transpose(dataset.loc[filt3, dataset.columns[4:]].apply(pd.Series.sum).values)\n",
        "#X = dataset.iloc[:, 1:2].values\n",
        "#y = dataset.iloc[:, 2].values"
      ],
      "execution_count": 0,
      "outputs": []
    },
    {
      "cell_type": "code",
      "metadata": {
        "id": "H6jQ6jNW7yU8",
        "colab_type": "code",
        "outputId": "f2b2388d-0ac0-4fec-c270-d6e1d1cb27c7",
        "colab": {
          "base_uri": "https://localhost:8080/",
          "height": 34
        }
      },
      "source": [
        "X.shape"
      ],
      "execution_count": 0,
      "outputs": [
        {
          "output_type": "execute_result",
          "data": {
            "text/plain": [
              "(113,)"
            ]
          },
          "metadata": {
            "tags": []
          },
          "execution_count": 13
        }
      ]
    },
    {
      "cell_type": "code",
      "metadata": {
        "id": "61KKOf3P7zo3",
        "colab_type": "code",
        "outputId": "656fdfc3-085a-4a6b-f1d7-19e4980dbbc9",
        "colab": {
          "base_uri": "https://localhost:8080/",
          "height": 34
        }
      },
      "source": [
        "y.shape"
      ],
      "execution_count": 0,
      "outputs": [
        {
          "output_type": "execute_result",
          "data": {
            "text/plain": [
              "(113,)"
            ]
          },
          "metadata": {
            "tags": []
          },
          "execution_count": 14
        }
      ]
    },
    {
      "cell_type": "code",
      "metadata": {
        "id": "GOOItRJ_75FO",
        "colab_type": "code",
        "outputId": "13e7dfa6-1729-45f1-e431-55571c69bed9",
        "colab": {
          "base_uri": "https://localhost:8080/",
          "height": 170
        }
      },
      "source": [
        "X"
      ],
      "execution_count": 0,
      "outputs": [
        {
          "output_type": "execute_result",
          "data": {
            "text/plain": [
              "array([  0,   1,   2,   3,   4,   5,   6,   7,   8,   9,  10,  11,  12,\n",
              "        13,  14,  15,  16,  17,  18,  19,  20,  21,  22,  23,  24,  25,\n",
              "        26,  27,  28,  29,  30,  31,  32,  33,  34,  35,  36,  37,  38,\n",
              "        39,  40,  41,  42,  43,  44,  45,  46,  47,  48,  49,  50,  51,\n",
              "        52,  53,  54,  55,  56,  57,  58,  59,  60,  61,  62,  63,  64,\n",
              "        65,  66,  67,  68,  69,  70,  71,  72,  73,  74,  75,  76,  77,\n",
              "        78,  79,  80,  81,  82,  83,  84,  85,  86,  87,  88,  89,  90,\n",
              "        91,  92,  93,  94,  95,  96,  97,  98,  99, 100, 101, 102, 103,\n",
              "       104, 105, 106, 107, 108, 109, 110, 111, 112])"
            ]
          },
          "metadata": {
            "tags": []
          },
          "execution_count": 15
        }
      ]
    },
    {
      "cell_type": "code",
      "metadata": {
        "id": "M7uo7y4G758z",
        "colab_type": "code",
        "outputId": "b4e5080e-dcb5-4e5d-b3b4-b32118806589",
        "colab": {
          "base_uri": "https://localhost:8080/",
          "height": 272
        }
      },
      "source": [
        "y"
      ],
      "execution_count": 0,
      "outputs": [
        {
          "output_type": "execute_result",
          "data": {
            "text/plain": [
              "array([     0,      0,      0,      0,      0,      0,      0,      0,\n",
              "            0,      2,      2,      2,      2,      2,      2,      2,\n",
              "            3,      3,      3,      3,      3,      3,      3,      3,\n",
              "            3,      3,      3,      3,      3,      3,     20,     62,\n",
              "          155,    229,    322,    453,    655,    888,   1128,   1694,\n",
              "         2036,   2502,   3089,   3858,   4636,   5883,   7375,   9172,\n",
              "        10149,  12462,  12462,  17660,  21157,  24747,  27980,  31506,\n",
              "        35713,  41035,  47021,  53578,  59138,  63927,  69176,  74386,\n",
              "        80589,  86498,  92472,  97689, 101739, 105792, 110574, 115242,\n",
              "       119827, 124632, 128948, 132547, 135586, 139422, 143626, 147577,\n",
              "       152271, 156363, 159516, 162488, 165155, 168941, 172434, 175925,\n",
              "       178972, 181228, 183957, 187327, 189973, 192994, 195351, 197675,\n",
              "       199414, 201505, 203591, 205463, 207428, 209328, 210717, 211938,\n",
              "       213013, 214457, 215858, 217185, 218268, 219070, 219814, 221216,\n",
              "       222104])"
            ]
          },
          "metadata": {
            "tags": []
          },
          "execution_count": 16
        }
      ]
    },
    {
      "cell_type": "markdown",
      "metadata": {
        "id": "ZkGgP4Ma8Iin",
        "colab_type": "text"
      },
      "source": [
        "## Machine learning algorithms\n"
      ]
    },
    {
      "cell_type": "code",
      "metadata": {
        "id": "s2gGEXJd8JW0",
        "colab_type": "code",
        "colab": {}
      },
      "source": [
        "# Splitting the dataset into the Training set and Test set\n",
        "from sklearn.model_selection import train_test_split\n",
        "\n",
        "X_train, X_test, y_train, y_test = train_test_split(X, y, test_size = 0.2, random_state = 0)"
      ],
      "execution_count": 0,
      "outputs": []
    },
    {
      "cell_type": "code",
      "metadata": {
        "id": "H71CKnhC8QaW",
        "colab_type": "code",
        "outputId": "69e5d369-5f2e-454f-ab85-9e2d93d07c0e",
        "colab": {
          "base_uri": "https://localhost:8080/",
          "height": 136
        }
      },
      "source": [
        "X_train"
      ],
      "execution_count": 0,
      "outputs": [
        {
          "output_type": "execute_result",
          "data": {
            "text/plain": [
              "array([ 43,   8,  78,  82,  60,   3,  90,  59,  33,   6,  94,  50,  85,\n",
              "        98, 112,  75,  61,  27,  18,  11, 101,  66,  51,  74,  48,   1,\n",
              "        68,  42,  41,   4,  15,  17,  52,  40,  38,   5,  53, 107,  62,\n",
              "         0,  34,  28,  55,  35,  23,  31,  73,  57,  86,  96,  32,  95,\n",
              "        14,  92,  19,  29,  49, 110, 111,  79,  69,  80,  20, 106,  72,\n",
              "        77,  25,  37,  81,  99,  46, 102,  39,  65,  58,  12, 100,  88,\n",
              "        70,  87,  36,  21,  83,   9, 103, 109,  67,  64,  47,  44])"
            ]
          },
          "metadata": {
            "tags": []
          },
          "execution_count": 18
        }
      ]
    },
    {
      "cell_type": "code",
      "metadata": {
        "id": "v12d7PNB8TyD",
        "colab_type": "code",
        "outputId": "f98118ed-a419-4a20-8c80-90632950f6c0",
        "colab": {
          "base_uri": "https://localhost:8080/",
          "height": 51
        }
      },
      "source": [
        "X_test"
      ],
      "execution_count": 0,
      "outputs": [
        {
          "output_type": "execute_result",
          "data": {
            "text/plain": [
              "array([105,  10,  24,   7, 108,  56,  63,  76,  26,   2,  91,  45,  54,\n",
              "        93, 104,  71,  97,  16,  13,  22,  84,  89,  30])"
            ]
          },
          "metadata": {
            "tags": []
          },
          "execution_count": 19
        }
      ]
    },
    {
      "cell_type": "code",
      "metadata": {
        "id": "zz4EiZM58XDJ",
        "colab_type": "code",
        "colab": {}
      },
      "source": [
        "# Feature Scaling\n",
        "from sklearn.preprocessing import StandardScaler\n",
        "sc_X = StandardScaler()\n",
        "#_train = sc_X.fit_transform(X_train.reshape(-1, 1))\n",
        "#_test = sc_X.transform(X_test)\n",
        "\n",
        "X_train = sc_X.fit_transform(X_train.reshape(-1, 1))\n",
        "X_test = sc_X.transform(X_test.reshape(-1, 1))"
      ],
      "execution_count": 0,
      "outputs": []
    },
    {
      "cell_type": "code",
      "metadata": {
        "id": "b42XWLKj8Z7r",
        "colab_type": "code",
        "outputId": "475b5dd3-a81a-45b7-a874-89b39f7b2bc0",
        "colab": {
          "base_uri": "https://localhost:8080/",
          "height": 34
        }
      },
      "source": [
        "# Fitting Linear Regression to the dataset\n",
        "from sklearn.linear_model import LinearRegression\n",
        "lin_reg = LinearRegression()\n",
        "lin_reg.fit(X.reshape(-1, 1), y.reshape(-1, 1))"
      ],
      "execution_count": 0,
      "outputs": [
        {
          "output_type": "execute_result",
          "data": {
            "text/plain": [
              "LinearRegression(copy_X=True, fit_intercept=True, n_jobs=None, normalize=False)"
            ]
          },
          "metadata": {
            "tags": []
          },
          "execution_count": 21
        }
      ]
    },
    {
      "cell_type": "code",
      "metadata": {
        "id": "GZ_W3rUd8ckF",
        "colab_type": "code",
        "outputId": "b57dd583-b020-4f0e-81d8-9d070c40e18e",
        "colab": {
          "base_uri": "https://localhost:8080/",
          "height": 34
        }
      },
      "source": [
        "# Fitting Polynomial Regression to the dataset\n",
        "from sklearn.preprocessing import PolynomialFeatures\n",
        "poly_reg = PolynomialFeatures(degree = 4)\n",
        "X_poly = poly_reg.fit_transform(X.reshape(-1, 1))\n",
        "poly_reg.fit(X_poly, y.reshape(-1, 1))\n",
        "lin_reg_2 = LinearRegression()\n",
        "lin_reg_2.fit(X_poly, y.reshape(-1, 1))"
      ],
      "execution_count": 0,
      "outputs": [
        {
          "output_type": "execute_result",
          "data": {
            "text/plain": [
              "LinearRegression(copy_X=True, fit_intercept=True, n_jobs=None, normalize=False)"
            ]
          },
          "metadata": {
            "tags": []
          },
          "execution_count": 22
        }
      ]
    },
    {
      "cell_type": "code",
      "metadata": {
        "id": "IHs2SI-C8kEk",
        "colab_type": "code",
        "outputId": "40350fb6-0803-4222-ed89-f90ee37c9657",
        "colab": {
          "base_uri": "https://localhost:8080/",
          "height": 295
        }
      },
      "source": [
        "# Visualising the Linear Regression results\n",
        "plt.scatter(X.reshape(-1, 1), y.reshape(-1, 1), color = 'red', alpha = 0.4)\n",
        "plt.plot(X.reshape(-1, 1), lin_reg.predict(X.reshape(-1, 1)), color = 'blue')\n",
        "plt.title('{} Corona Infected Cases (Linear Regression)'.format(analyzedContry))\n",
        "\n",
        "#plt.figure(figsize=(15, 15))\n",
        "#plt.xticks(np.arange(xLength), pd.to_datetime(dataset.columns[4:], format ='%m/%d/%y').tolist())\n",
        "\n",
        "plt.xlabel('Time (days)')\n",
        "plt.ylabel('Number of Cases in {}'.format(analyzedContry))\n",
        "plt.show()"
      ],
      "execution_count": 0,
      "outputs": [
        {
          "output_type": "display_data",
          "data": {
            "image/png": "[encoded data removed]",
            "text/plain": [
              "<Figure size 432x288 with 1 Axes>"
            ]
          },
          "metadata": {
            "tags": [],
            "needs_background": "light"
          }
        }
      ]
    },
    {
      "cell_type": "code",
      "metadata": {
        "id": "v9i41c5D8oIL",
        "colab_type": "code",
        "outputId": "20126997-639d-4fee-b7c8-d61ff13485b1",
        "colab": {
          "base_uri": "https://localhost:8080/",
          "height": 295
        }
      },
      "source": [
        "# Visualising the Polynomial Regression results \n",
        "# Red dots are actual cases , Blue line is the fitted function\n",
        "plt.scatter(X.reshape(-1, 1), y.reshape(-1, 1), color = 'red', alpha = 0.4)\n",
        "plt.plot(X.reshape(-1, 1), lin_reg_2.predict(poly_reg.fit_transform(X.reshape(-1, 1))), color = 'blue')\n",
        "plt.title(' {} Corona Infected Cases (Polynomial Regression)'.format(analyzedContry))\n",
        "plt.xlabel('Time (days)' )\n",
        "plt.ylabel('Number of Cases in {}'.format(analyzedContry))\n",
        "plt.show()"
      ],
      "execution_count": 0,
      "outputs": [
        {
          "output_type": "display_data",
          "data": {
            "image/png": "[encoded data removed]",
            "text/plain": [
              "<Figure size 432x288 with 1 Axes>"
            ]
          },
          "metadata": {
            "tags": [],
            "needs_background": "light"
          }
        }
      ]
    },
    {
      "cell_type": "code",
      "metadata": {
        "id": "dSktiDd28uAP",
        "colab_type": "code",
        "outputId": "480e0dfe-eab5-41f9-ddb5-66b23652769c",
        "colab": {
          "base_uri": "https://localhost:8080/",
          "height": 295
        }
      },
      "source": [
        "# Visualising the Polynomial Regression results (for higher resolution and smoother curve)\n",
        "# Red dots are actual cases , Blue line is the fitted function\n",
        "\n",
        "X_grid = np.arange(min(X.reshape(-1, 1)), max(X.reshape(-1, 1)), 0.1)\n",
        "X_grid = X_grid.reshape((len(X_grid), 1))\n",
        "plt.scatter(X.reshape(-1, 1), y.reshape(-1, 1), color = 'red', alpha = 0.4)\n",
        "plt.plot(X_grid, lin_reg_2.predict(poly_reg.fit_transform(X_grid)), color = 'blue')\n",
        "plt.title('{} Corona Infected Cases (Polynomial Regression)'.format(analyzedContry))\n",
        "plt.xlabel('Time (days)')\n",
        "plt.ylabel('Number of Cases in {}'.format(analyzedContry))\n",
        "plt.show()"
      ],
      "execution_count": 0,
      "outputs": [
        {
          "output_type": "display_data",
          "data": {
            "image/png": "[encoded data removed]",
            "text/plain": [
              "<Figure size 432x288 with 1 Axes>"
            ]
          },
          "metadata": {
            "tags": [],
            "needs_background": "light"
          }
        }
      ]
    },
    {
      "cell_type": "code",
      "metadata": {
        "id": "SqxS81HE8wdM",
        "colab_type": "code",
        "outputId": "7c1ec514-4045-4737-f8e4-31966b7c6911",
        "colab": {
          "base_uri": "https://localhost:8080/",
          "height": 34
        }
      },
      "source": [
        "# Predicting a new result with Linear Regression\n",
        "lin_reg.predict([[120]])"
      ],
      "execution_count": 0,
      "outputs": [
        {
          "output_type": "execute_result",
          "data": {
            "text/plain": [
              "array([[236020.99547541]])"
            ]
          },
          "metadata": {
            "tags": []
          },
          "execution_count": 28
        }
      ]
    },
    {
      "cell_type": "code",
      "metadata": {
        "id": "cPyEQn1P8zCN",
        "colab_type": "code",
        "outputId": "411d5c22-2c87-411a-ec3c-e5db3e7060c4",
        "colab": {
          "base_uri": "https://localhost:8080/",
          "height": 34
        }
      },
      "source": [
        "# Predicting a new result with Polynomial Regression\n",
        "lin_reg_2.predict(poly_reg.fit_transform([[120]]))"
      ],
      "execution_count": 0,
      "outputs": [
        {
          "output_type": "execute_result",
          "data": {
            "text/plain": [
              "array([[165395.65478695]])"
            ]
          },
          "metadata": {
            "tags": []
          },
          "execution_count": 30
        }
      ]
    },
    {
      "cell_type": "code",
      "metadata": {
        "id": "s8D-NkQx812K",
        "colab_type": "code",
        "outputId": "380ecc62-1c23-45a6-a090-557f31f7856b",
        "colab": {
          "base_uri": "https://localhost:8080/",
          "height": 292
        }
      },
      "source": [
        "#Training the Logistic Regression model on the Training set\n",
        "\n",
        "from sklearn.linear_model import LogisticRegression\n",
        "classifier = LogisticRegression(random_state = 0)\n",
        "classifier.fit(X.reshape(-1, 1), y.reshape(-1, 1))"
      ],
      "execution_count": 0,
      "outputs": [
        {
          "output_type": "stream",
          "text": [
            "/usr/local/lib/python3.6/dist-packages/sklearn/utils/validation.py:760: DataConversionWarning: A column-vector y was passed when a 1d array was expected. Please change the shape of y to (n_samples, ), for example using ravel().\n",
            "  y = column_or_1d(y, warn=True)\n",
            "/usr/local/lib/python3.6/dist-packages/sklearn/linear_model/_logistic.py:940: ConvergenceWarning: lbfgs failed to converge (status=1):\n",
            "STOP: TOTAL NO. of ITERATIONS REACHED LIMIT.\n",
            "\n",
            "Increase the number of iterations (max_iter) or scale the data as shown in:\n",
            "    https://scikit-learn.org/stable/modules/preprocessing.html\n",
            "Please also refer to the documentation for alternative solver options:\n",
            "    https://scikit-learn.org/stable/modules/linear_model.html#logistic-regression\n",
            "  extra_warning_msg=_LOGISTIC_SOLVER_CONVERGENCE_MSG)\n"
          ],
          "name": "stderr"
        },
        {
          "output_type": "execute_result",
          "data": {
            "text/plain": [
              "LogisticRegression(C=1.0, class_weight=None, dual=False, fit_intercept=True,\n",
              "                   intercept_scaling=1, l1_ratio=None, max_iter=100,\n",
              "                   multi_class='auto', n_jobs=None, penalty='l2',\n",
              "                   random_state=0, solver='lbfgs', tol=0.0001, verbose=0,\n",
              "                   warm_start=False)"
            ]
          },
          "metadata": {
            "tags": []
          },
          "execution_count": 31
        }
      ]
    },
    {
      "cell_type": "code",
      "metadata": {
        "id": "PSh5k9OT84oM",
        "colab_type": "code",
        "colab": {}
      },
      "source": [
        "y_pred = classifier.predict(X_test)"
      ],
      "execution_count": 0,
      "outputs": []
    },
    {
      "cell_type": "code",
      "metadata": {
        "id": "Ri9nZ1Uj8-BB",
        "colab_type": "code",
        "outputId": "dd6a35c0-be67-45fb-9cac-0ec26c237d4d",
        "colab": {
          "base_uri": "https://localhost:8080/",
          "height": 34
        }
      },
      "source": [
        "# Fitting Linear Regression to the dataset\n",
        "from sklearn.linear_model import LinearRegression\n",
        "lin_reg = LinearRegression()\n",
        "lin_reg.fit(X.reshape(-1, 1), y.reshape(-1, 1))"
      ],
      "execution_count": 0,
      "outputs": [
        {
          "output_type": "execute_result",
          "data": {
            "text/plain": [
              "LinearRegression(copy_X=True, fit_intercept=True, n_jobs=None, normalize=False)"
            ]
          },
          "metadata": {
            "tags": []
          },
          "execution_count": 33
        }
      ]
    },
    {
      "cell_type": "code",
      "metadata": {
        "id": "0kMl1Bdy9A6C",
        "colab_type": "code",
        "outputId": "35482e00-dc39-451c-d653-0b9cd374959c",
        "colab": {
          "base_uri": "https://localhost:8080/",
          "height": 295
        }
      },
      "source": [
        "# Visualising the Polynomial Regression results\n",
        "# Red dots are actual cases , Blue line is the fitted function\n",
        "\n",
        "plt.scatter(X.reshape(-1, 1), y.reshape(-1, 1), color = 'red', alpha = 0.4)\n",
        "plt.plot(X.reshape(-1, 1), classifier.predict(X.reshape(-1, 1)), color = 'blue')\n",
        "\n",
        "plt.title(' {} Corona Infected Cases (Logistic Regression)'.format(analyzedContry))\n",
        "plt.xlabel('Time (days)' )\n",
        "plt.ylabel('Number of Cases in {}'.format(analyzedContry))\n",
        "plt.show()"
      ],
      "execution_count": 0,
      "outputs": [
        {
          "output_type": "display_data",
          "data": {
            "image/png": "[encoded data removed]",
            "text/plain": [
              "<Figure size 432x288 with 1 Axes>"
            ]
          },
          "metadata": {
            "tags": [],
            "needs_background": "light"
          }
        }
      ]
    },
    {
      "cell_type": "code",
      "metadata": {
        "id": "ATuhrqAv9DjJ",
        "colab_type": "code",
        "colab": {}
      },
      "source": [
        ""
      ],
      "execution_count": 0,
      "outputs": []
    }
  ]
}